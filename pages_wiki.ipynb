{
 "cells": [
  {
   "cell_type": "markdown",
   "metadata": {},
   "source": [
    "# Introduction du problème"
   ]
  },
  {
   "cell_type": "markdown",
   "metadata": {},
   "source": [
    "Dans cet exercice, je veux montrer comment utiliser les techniques d'apprentissage automatique pour étudier la similarité entre certaines des différentes pages de Wikipedia. Plus précisément, je souhaiterais estimer la similarité des pages concernant des personnages publiques americains. \n",
    "\n",
    "La base de données a été fournie par l'Université de Washington dans le cadre d'un de leurs cours universitaires. J'utiliserai principalement le package GraphLab qui a été developpé par une partie des membres de l'équipe de Statistique et Apprentissage Automatique de l'Université de Washington - Seattle.\n",
    "\n",
    "Pour accomplir cette tâche, j'emploierai l'algorithme TF-IDF (Term Frequency - Inverse Document Frequency). L'idée fondamentale de l'algorithme est de compter le nombre total de fois où chaque mot apparaît dans l'article, en obtenant un vecteur. On peut alors donner une estimation de proximité des deux différents articles. Par le produit scalaire de deux différents vecteurs, on obtient en fait un nombre qui peut être utilisé pour déterminer la proximité des deux pages différentes. Une telle méthode a deux problèmes fondamentaux: premièrement, le vecteur dépend de la longueur de l'article; deuxièment, les mots très communs (qu'en langue français pourraient être le mot 'le', ou 'de', etc.) seraient d'une grande importance. \n",
    "\n",
    "Il faut donc normaliser le vecteur de deux manières différentes, d'une part en considérant sa longueur, et d'aute part en considérant la quantité de mots communs présente. Pour la première normalisation, il est suffisant de choisir une norme vectorielle et de normaliser le vecteur par sa norme associée. Pour le deuxième cas, on veut que les mots plus communs deviennent moins importants, idéalement on voudrait que le poids associé soit 0. Mieux encore, on voudrait sélectionner des mots qui soient relativement courants dans l'article choisi, mais très rares dans la totalité des articles selectionnés. \n",
    "\n",
    "On appelle alors w le mot qui nous intéresse, N le numéro total de documents et N(w) le nombre de documents qui contient le mot w. Étant donné un article et un mot w y présent, on multiplie w par f(w) = log (N/1+N(w)). On peut remarquer que, pour N suffisament grand, un mot commun à presque tous les articles aura un poids proche de 0, exactement ce que l'on veut obtenir.\n",
    "\n",
    "Le package GraphLab a une fonction qui s'appelle tf_idf et qui calcule l'algorithme TF-IDF sans qu'il y ait besoin de normaliser le vecteur. Je vais présenter cette fonction plus en détail pr la suite.\n",
    "\n"
   ]
  },
  {
   "cell_type": "markdown",
   "metadata": {
    "collapsed": true
   },
   "source": [
    "# Les donnés"
   ]
  },
  {
   "cell_type": "markdown",
   "metadata": {
    "collapsed": true
   },
   "source": [
    "Les données sont un ensemble de biographies de personnes connues, biographies extraites de la version anglaise de Wikipedia. \n",
    "\n",
    "On va maintenant initialiser le package GraphLab."
   ]
  },
  {
   "cell_type": "code",
   "execution_count": 1,
   "metadata": {
    "collapsed": false
   },
   "outputs": [
    {
     "name": "stderr",
     "output_type": "stream",
     "text": [
      "[WARNING] Unable to write current GraphLab Create license to /home/roberto/.graphlab/config. Ensure that this user account has write permission to /home/roberto/.graphlab/config to save the license for offline use.\n",
      "[INFO] \u001b[1;32m1446672366 : INFO:     (reap_unused_temp_files:277): Deleting orphaned temp directory found in /var/tmp/graphlab-roberto/10719\n",
      "\u001b[0m\u001b[1;32m1446672366 : INFO:     (reap_unused_temp_files:277): Deleting orphaned temp directory found in /var/tmp/graphlab-roberto/6589\n",
      "\u001b[0m\u001b[1;35m1446672366 : WARNING:  (delete_proc_directory:243): Unable to delete \"/var/tmp/graphlab-roberto/6589/pickle13809fc6-b94c-4075-be44-a5d70a148fcc\"\n",
      "\u001b[0m\u001b[1;32m1446672366 : INFO:     (reap_unused_temp_files:277): Deleting orphaned temp directory found in /var/tmp/graphlab-roberto/10721\n",
      "\u001b[0m\u001b[1;32m1446672366 : INFO:     (reap_unused_temp_files:277): Deleting orphaned temp directory found in /var/tmp/graphlab-roberto/10722\n",
      "\u001b[0m\u001b[1;32m1446672366 : INFO:     (reap_unused_temp_files:277): Deleting orphaned temp directory found in /var/tmp/graphlab-roberto/10720\n",
      "\u001b[0mThis non-commercial license of GraphLab Create is assigned to roberto.castellini@math.univ-lille1.frand will expire on October 14, 2016. For commercial licensing options, visit https://dato.com/buy/.\n",
      "\n",
      "[INFO] Start server at: ipc:///tmp/graphlab_server-6746 - Server binary: /usr/local/lib/python2.7/dist-packages/graphlab/unity_server - Server log: /tmp/graphlab_server_1446672366.log\n",
      "[INFO] GraphLab Server Version: 1.6.1\n",
      "[WARNING] Unable to create session in specified location: '/home/roberto/.graphlab/artifacts'. Using: '/var/tmp/graphlab-roberto/6746/tmp_session_45b02fdf-643e-4006-8fc0-af2eaa480137'\n"
     ]
    }
   ],
   "source": [
    "import graphlab"
   ]
  },
  {
   "cell_type": "code",
   "execution_count": 2,
   "metadata": {
    "collapsed": true
   },
   "outputs": [],
   "source": [
    "pages = graphlab.SFrame('/home/roberto/Desktop/Python/people_wiki.gl')\n"
   ]
  },
  {
   "cell_type": "markdown",
   "metadata": {},
   "source": [
    "On regarde le type des donnés qu'on obtient."
   ]
  },
  {
   "cell_type": "code",
   "execution_count": 3,
   "metadata": {
    "collapsed": false
   },
   "outputs": [
    {
     "data": {
      "text/html": [
       "<div style=\"max-height:1000px;max-width:1500px;overflow:auto;\"><table frame=\"box\" rules=\"cols\">\n",
       "    <tr>\n",
       "        <th style=\"padding-left: 1em; padding-right: 1em; text-align: center\">URI</th>\n",
       "        <th style=\"padding-left: 1em; padding-right: 1em; text-align: center\">name</th>\n",
       "        <th style=\"padding-left: 1em; padding-right: 1em; text-align: center\">text</th>\n",
       "    </tr>\n",
       "    <tr>\n",
       "        <td style=\"padding-left: 1em; padding-right: 1em; text-align: center; vertical-align: top\">&lt;http://dbpedia.org/resou<br>rce/Digby_Morrell&gt; ...</td>\n",
       "        <td style=\"padding-left: 1em; padding-right: 1em; text-align: center; vertical-align: top\">Digby Morrell</td>\n",
       "        <td style=\"padding-left: 1em; padding-right: 1em; text-align: center; vertical-align: top\">digby morrell born 10<br>october 1979 is a former ...</td>\n",
       "    </tr>\n",
       "    <tr>\n",
       "        <td style=\"padding-left: 1em; padding-right: 1em; text-align: center; vertical-align: top\">&lt;http://dbpedia.org/resou<br>rce/Alfred_J._Lewy&gt; ...</td>\n",
       "        <td style=\"padding-left: 1em; padding-right: 1em; text-align: center; vertical-align: top\">Alfred J. Lewy</td>\n",
       "        <td style=\"padding-left: 1em; padding-right: 1em; text-align: center; vertical-align: top\">alfred j lewy aka sandy<br>lewy graduated from ...</td>\n",
       "    </tr>\n",
       "    <tr>\n",
       "        <td style=\"padding-left: 1em; padding-right: 1em; text-align: center; vertical-align: top\">&lt;http://dbpedia.org/resou<br>rce/Harpdog_Brown&gt; ...</td>\n",
       "        <td style=\"padding-left: 1em; padding-right: 1em; text-align: center; vertical-align: top\">Harpdog Brown</td>\n",
       "        <td style=\"padding-left: 1em; padding-right: 1em; text-align: center; vertical-align: top\">harpdog brown is a singer<br>and harmonica player who ...</td>\n",
       "    </tr>\n",
       "    <tr>\n",
       "        <td style=\"padding-left: 1em; padding-right: 1em; text-align: center; vertical-align: top\">&lt;http://dbpedia.org/resou<br>rce/Franz_Rottensteiner&gt; ...</td>\n",
       "        <td style=\"padding-left: 1em; padding-right: 1em; text-align: center; vertical-align: top\">Franz Rottensteiner</td>\n",
       "        <td style=\"padding-left: 1em; padding-right: 1em; text-align: center; vertical-align: top\">franz rottensteiner born<br>in waidmannsfeld lower ...</td>\n",
       "    </tr>\n",
       "    <tr>\n",
       "        <td style=\"padding-left: 1em; padding-right: 1em; text-align: center; vertical-align: top\">&lt;http://dbpedia.org/resou<br>rce/G-Enka&gt; ...</td>\n",
       "        <td style=\"padding-left: 1em; padding-right: 1em; text-align: center; vertical-align: top\">G-Enka</td>\n",
       "        <td style=\"padding-left: 1em; padding-right: 1em; text-align: center; vertical-align: top\">henry krvits born 30<br>december 1974 in tallinn ...</td>\n",
       "    </tr>\n",
       "    <tr>\n",
       "        <td style=\"padding-left: 1em; padding-right: 1em; text-align: center; vertical-align: top\">&lt;http://dbpedia.org/resou<br>rce/Sam_Henderson&gt; ...</td>\n",
       "        <td style=\"padding-left: 1em; padding-right: 1em; text-align: center; vertical-align: top\">Sam Henderson</td>\n",
       "        <td style=\"padding-left: 1em; padding-right: 1em; text-align: center; vertical-align: top\">sam henderson born<br>october 18 1969 is an ...</td>\n",
       "    </tr>\n",
       "    <tr>\n",
       "        <td style=\"padding-left: 1em; padding-right: 1em; text-align: center; vertical-align: top\">&lt;http://dbpedia.org/resou<br>rce/Aaron_LaCrate&gt; ...</td>\n",
       "        <td style=\"padding-left: 1em; padding-right: 1em; text-align: center; vertical-align: top\">Aaron LaCrate</td>\n",
       "        <td style=\"padding-left: 1em; padding-right: 1em; text-align: center; vertical-align: top\">aaron lacrate is an<br>american music producer ...</td>\n",
       "    </tr>\n",
       "    <tr>\n",
       "        <td style=\"padding-left: 1em; padding-right: 1em; text-align: center; vertical-align: top\">&lt;http://dbpedia.org/resou<br>rce/Trevor_Ferguson&gt; ...</td>\n",
       "        <td style=\"padding-left: 1em; padding-right: 1em; text-align: center; vertical-align: top\">Trevor Ferguson</td>\n",
       "        <td style=\"padding-left: 1em; padding-right: 1em; text-align: center; vertical-align: top\">trevor ferguson aka john<br>farrow born 11 november ...</td>\n",
       "    </tr>\n",
       "    <tr>\n",
       "        <td style=\"padding-left: 1em; padding-right: 1em; text-align: center; vertical-align: top\">&lt;http://dbpedia.org/resou<br>rce/Grant_Nelson&gt; ...</td>\n",
       "        <td style=\"padding-left: 1em; padding-right: 1em; text-align: center; vertical-align: top\">Grant Nelson</td>\n",
       "        <td style=\"padding-left: 1em; padding-right: 1em; text-align: center; vertical-align: top\">grant nelson born 27<br>april 1971 in london  ...</td>\n",
       "    </tr>\n",
       "    <tr>\n",
       "        <td style=\"padding-left: 1em; padding-right: 1em; text-align: center; vertical-align: top\">&lt;http://dbpedia.org/resou<br>rce/Cathy_Caruth&gt; ...</td>\n",
       "        <td style=\"padding-left: 1em; padding-right: 1em; text-align: center; vertical-align: top\">Cathy Caruth</td>\n",
       "        <td style=\"padding-left: 1em; padding-right: 1em; text-align: center; vertical-align: top\">cathy caruth born 1955 is<br>frank h t rhodes ...</td>\n",
       "    </tr>\n",
       "</table>\n",
       "[10 rows x 3 columns]<br/>\n",
       "</div>"
      ],
      "text/plain": [
       "Columns:\n",
       "\tURI\tstr\n",
       "\tname\tstr\n",
       "\ttext\tstr\n",
       "\n",
       "Rows: 10\n",
       "\n",
       "Data:\n",
       "+-------------------------------+---------------------+\n",
       "|              URI              |         name        |\n",
       "+-------------------------------+---------------------+\n",
       "| <http://dbpedia.org/resour... |    Digby Morrell    |\n",
       "| <http://dbpedia.org/resour... |    Alfred J. Lewy   |\n",
       "| <http://dbpedia.org/resour... |    Harpdog Brown    |\n",
       "| <http://dbpedia.org/resour... | Franz Rottensteiner |\n",
       "| <http://dbpedia.org/resour... |        G-Enka       |\n",
       "| <http://dbpedia.org/resour... |    Sam Henderson    |\n",
       "| <http://dbpedia.org/resour... |    Aaron LaCrate    |\n",
       "| <http://dbpedia.org/resour... |   Trevor Ferguson   |\n",
       "| <http://dbpedia.org/resour... |     Grant Nelson    |\n",
       "| <http://dbpedia.org/resour... |     Cathy Caruth    |\n",
       "+-------------------------------+---------------------+\n",
       "+-------------------------------+\n",
       "|              text             |\n",
       "+-------------------------------+\n",
       "| digby morrell born 10 octo... |\n",
       "| alfred j lewy aka sandy le... |\n",
       "| harpdog brown is a singer ... |\n",
       "| franz rottensteiner born i... |\n",
       "| henry krvits born 30 decem... |\n",
       "| sam henderson born october... |\n",
       "| aaron lacrate is an americ... |\n",
       "| trevor ferguson aka john f... |\n",
       "| grant nelson born 27 april... |\n",
       "| cathy caruth born 1955 is ... |\n",
       "+-------------------------------+\n",
       "[10 rows x 3 columns]"
      ]
     },
     "execution_count": 3,
     "metadata": {},
     "output_type": "execute_result"
    }
   ],
   "source": [
    "pages.head()\n"
   ]
  },
  {
   "cell_type": "markdown",
   "metadata": {},
   "source": [
    "On peut remarquer que chaque ligne a trois données différentes: l'Url de la page, le titre de la page (dans ce cas, le nom du personnage) et le texte comme suite de mots, sans aucun formatage particulier. Les données sont déjà en très bon état et prêtes pour être utilisées. Comme contrôle ultérieur, je regarde les dernières dix pages."
   ]
  },
  {
   "cell_type": "code",
   "execution_count": 4,
   "metadata": {
    "collapsed": false
   },
   "outputs": [
    {
     "data": {
      "text/html": [
       "<div style=\"max-height:1000px;max-width:1500px;overflow:auto;\"><table frame=\"box\" rules=\"cols\">\n",
       "    <tr>\n",
       "        <th style=\"padding-left: 1em; padding-right: 1em; text-align: center\">URI</th>\n",
       "        <th style=\"padding-left: 1em; padding-right: 1em; text-align: center\">name</th>\n",
       "        <th style=\"padding-left: 1em; padding-right: 1em; text-align: center\">text</th>\n",
       "    </tr>\n",
       "    <tr>\n",
       "        <td style=\"padding-left: 1em; padding-right: 1em; text-align: center; vertical-align: top\">&lt;http://dbpedia.org/resou<br>rce/Rod_Wilt&gt; ...</td>\n",
       "        <td style=\"padding-left: 1em; padding-right: 1em; text-align: center; vertical-align: top\">Rod Wilt</td>\n",
       "        <td style=\"padding-left: 1em; padding-right: 1em; text-align: center; vertical-align: top\">rod wilt is a former<br>republican member of the ...</td>\n",
       "    </tr>\n",
       "    <tr>\n",
       "        <td style=\"padding-left: 1em; padding-right: 1em; text-align: center; vertical-align: top\">&lt;http://dbpedia.org/resou<br>rce/Scott_Baker_(judge)&gt; ...</td>\n",
       "        <td style=\"padding-left: 1em; padding-right: 1em; text-align: center; vertical-align: top\">Scott Baker (judge)</td>\n",
       "        <td style=\"padding-left: 1em; padding-right: 1em; text-align: center; vertical-align: top\">sir thomas scott<br>gillespie baker born 10 ...</td>\n",
       "    </tr>\n",
       "    <tr>\n",
       "        <td style=\"padding-left: 1em; padding-right: 1em; text-align: center; vertical-align: top\">&lt;http://dbpedia.org/resou<br>rce/Dragoljub_Ojdani% ...</td>\n",
       "        <td style=\"padding-left: 1em; padding-right: 1em; text-align: center; vertical-align: top\">Dragoljub Ojdani%C4%87</td>\n",
       "        <td style=\"padding-left: 1em; padding-right: 1em; text-align: center; vertical-align: top\">dragoljub ojdani serbian<br>cyrillic born june 1  ...</td>\n",
       "    </tr>\n",
       "    <tr>\n",
       "        <td style=\"padding-left: 1em; padding-right: 1em; text-align: center; vertical-align: top\">&lt;http://dbpedia.org/resou<br>rce/Oz_Bengur&gt; ...</td>\n",
       "        <td style=\"padding-left: 1em; padding-right: 1em; text-align: center; vertical-align: top\">Oz Bengur</td>\n",
       "        <td style=\"padding-left: 1em; padding-right: 1em; text-align: center; vertical-align: top\">osman oz bengur born<br>february 23 1949 is an ...</td>\n",
       "    </tr>\n",
       "    <tr>\n",
       "        <td style=\"padding-left: 1em; padding-right: 1em; text-align: center; vertical-align: top\">&lt;http://dbpedia.org/resou<br>rce/Dee_Brown_(basket ...</td>\n",
       "        <td style=\"padding-left: 1em; padding-right: 1em; text-align: center; vertical-align: top\">Dee Brown (basketball,<br>born 1968) ...</td>\n",
       "        <td style=\"padding-left: 1em; padding-right: 1em; text-align: center; vertical-align: top\">decovan kadell dee brown<br>born november 29 1968 is ...</td>\n",
       "    </tr>\n",
       "    <tr>\n",
       "        <td style=\"padding-left: 1em; padding-right: 1em; text-align: center; vertical-align: top\">&lt;http://dbpedia.org/resou<br>rce/Olari_Elts&gt; ...</td>\n",
       "        <td style=\"padding-left: 1em; padding-right: 1em; text-align: center; vertical-align: top\">Olari Elts</td>\n",
       "        <td style=\"padding-left: 1em; padding-right: 1em; text-align: center; vertical-align: top\">olari elts born april 27<br>1971 in tallinn estonia ...</td>\n",
       "    </tr>\n",
       "    <tr>\n",
       "        <td style=\"padding-left: 1em; padding-right: 1em; text-align: center; vertical-align: top\">&lt;http://dbpedia.org/resou<br>rce/Scott_F._Crago&gt; ...</td>\n",
       "        <td style=\"padding-left: 1em; padding-right: 1em; text-align: center; vertical-align: top\">Scott F. Crago</td>\n",
       "        <td style=\"padding-left: 1em; padding-right: 1em; text-align: center; vertical-align: top\">scott francis crago born<br>july 26 1963 twin bro ...</td>\n",
       "    </tr>\n",
       "    <tr>\n",
       "        <td style=\"padding-left: 1em; padding-right: 1em; text-align: center; vertical-align: top\">&lt;http://dbpedia.org/resou<br>rce/David_Cass_(footb ...</td>\n",
       "        <td style=\"padding-left: 1em; padding-right: 1em; text-align: center; vertical-align: top\">David Cass (footballer)</td>\n",
       "        <td style=\"padding-left: 1em; padding-right: 1em; text-align: center; vertical-align: top\">david william royce cass<br>born 27 march 1962 in ...</td>\n",
       "    </tr>\n",
       "    <tr>\n",
       "        <td style=\"padding-left: 1em; padding-right: 1em; text-align: center; vertical-align: top\">&lt;http://dbpedia.org/resou<br>rce/Keith_Elias&gt; ...</td>\n",
       "        <td style=\"padding-left: 1em; padding-right: 1em; text-align: center; vertical-align: top\">Keith Elias</td>\n",
       "        <td style=\"padding-left: 1em; padding-right: 1em; text-align: center; vertical-align: top\">keith hector elias born<br>february 3 1972 in lacey ...</td>\n",
       "    </tr>\n",
       "    <tr>\n",
       "        <td style=\"padding-left: 1em; padding-right: 1em; text-align: center; vertical-align: top\">&lt;http://dbpedia.org/resou<br>rce/Fawaz_Damrah&gt; ...</td>\n",
       "        <td style=\"padding-left: 1em; padding-right: 1em; text-align: center; vertical-align: top\">Fawaz Damrah</td>\n",
       "        <td style=\"padding-left: 1em; padding-right: 1em; text-align: center; vertical-align: top\">fawaz mohammed damrah<br>arabic fawwz damra was ...</td>\n",
       "    </tr>\n",
       "</table>\n",
       "[10 rows x 3 columns]<br/>\n",
       "</div>"
      ],
      "text/plain": [
       "Columns:\n",
       "\tURI\tstr\n",
       "\tname\tstr\n",
       "\ttext\tstr\n",
       "\n",
       "Rows: 10\n",
       "\n",
       "Data:\n",
       "+-------------------------------+-------------------------------+\n",
       "|              URI              |              name             |\n",
       "+-------------------------------+-------------------------------+\n",
       "| <http://dbpedia.org/resour... |            Rod Wilt           |\n",
       "| <http://dbpedia.org/resour... |      Scott Baker (judge)      |\n",
       "| <http://dbpedia.org/resour... |     Dragoljub Ojdani%C4%87    |\n",
       "| <http://dbpedia.org/resour... |           Oz Bengur           |\n",
       "| <http://dbpedia.org/resour... | Dee Brown (basketball, bor... |\n",
       "| <http://dbpedia.org/resour... |           Olari Elts          |\n",
       "| <http://dbpedia.org/resour... |         Scott F. Crago        |\n",
       "| <http://dbpedia.org/resour... |    David Cass (footballer)    |\n",
       "| <http://dbpedia.org/resour... |          Keith Elias          |\n",
       "| <http://dbpedia.org/resour... |          Fawaz Damrah         |\n",
       "+-------------------------------+-------------------------------+\n",
       "+-------------------------------+\n",
       "|              text             |\n",
       "+-------------------------------+\n",
       "| rod wilt is a former repub... |\n",
       "| sir thomas scott gillespie... |\n",
       "| dragoljub ojdani serbian c... |\n",
       "| osman oz bengur born febru... |\n",
       "| decovan kadell dee brown b... |\n",
       "| olari elts born april 27 1... |\n",
       "| scott francis crago born j... |\n",
       "| david william royce cass b... |\n",
       "| keith hector elias born fe... |\n",
       "| fawaz mohammed damrah arab... |\n",
       "+-------------------------------+\n",
       "[10 rows x 3 columns]"
      ]
     },
     "execution_count": 4,
     "metadata": {},
     "output_type": "execute_result"
    }
   ],
   "source": [
    "pages.tail()"
   ]
  },
  {
   "cell_type": "markdown",
   "metadata": {},
   "source": [
    "On remarque qu'il peut y avoir des problèmes avec certains caractères pour certains noms, comme par exemple pour Dragoljub Ojdani. On va alors regarder le corps de son article, et celui de Scott Baker comme contrôle, pour voir s'il y a des problèmes dans les caractères."
   ]
  },
  {
   "cell_type": "code",
   "execution_count": 5,
   "metadata": {
    "collapsed": false
   },
   "outputs": [
    {
     "name": "stdout",
     "output_type": "stream",
     "text": [
      "['dragoljub ojdani serbian cyrillic born june 1 1941 in ravni near uice kingdom of yugoslavia was former chief of the general staff and defence minister of yugoslavia he was convicted of deportation and forcible transfers by the ictyin 1958 he studied at the yugoslav military academy and graduated in 1964 he was deputy commander of the 37th corps with command in uice he was promoted to major general on 20 april 1992 and he became the commander of uice korpus under his command the uice corps was deployed in military operations in eastern bosnia during the war in bosnia and herzegovina he served as chief of the general staff first army of fry in 1993 and 1994 between 19941996 he was commander of the first army in 1996 he became deputy commander chief of the general staff in 1998 slobodan miloevi placed ojdani as a chief of the general staff of the yugoslav army he was also a chief of general staff during natos operation allied forcein february 2000 after the death of defence minister pavle bulatovi he was made defence minister of yugoslavia and promoted to general of the armyon 25 april 2002 ojdani was transferred by the yugoslav government to the international criminal tribunal for the former yugoslavia icty in the hague ojdani was allowed to attend miloevis funeral after his death on 11 march 2006 on 26 february 2009 the icty sentenced ojdani to 15 years in prison following a conviction for deportation and forcible transfers on may 27 2009 ojdanics case was appealed ojdanics cocounsel on appeal is peter robinson of the united statesin january 2013 he publicly admitted his participation in war crimes against kosovo albanians and withdrew the appeal against his conviction', ... ]\n"
     ]
    }
   ],
   "source": [
    "print pages[pages['name'] == 'Dragoljub Ojdani%C4%87']['text']"
   ]
  },
  {
   "cell_type": "code",
   "execution_count": 6,
   "metadata": {
    "collapsed": false
   },
   "outputs": [
    {
     "name": "stdout",
     "output_type": "stream",
     "text": [
      "['sir thomas scott gillespie baker born 10 december 1937 is a retired english court of appeal judgebaker is the eldest son of sir george baker a former high court judge who was president of the family division from 1971 to 1979 one of his brothers his honour judge baker qc was the resident judge at st albans crown courtbaker was educated at haileybury and imperial service college and studied at brasenose college oxford he was a member of chorleywood urban district council from 1964 to 1967 he married margaret joy baker on 10 february 1973 they had 2 sons and one 1 daughter together he was called to the bar at the middle temple in 1961 and practised in a range of legal areas including family finance cases and professional negligencehe became a recorder in 1976 and was appointed a queens counsel in 1978 he became a bencher at middle temple in 1985 he was a member of the committee that inquired into human fertilisation in 1982 to 1984 chaired by mary warnock which led to the human fertilisation and embryology act 1990he was appointed as a high court judge in 1988 and was styled mr justice scott baker receiving the customary knighthood and allocated to the family division he moved to the queens bench division in 1993 he was presiding judge of the wales and chester circuit from 1991 to 1995 and a member of the parole board from 1999 to 2002 he was the lead judge of the administrative court from 2000 to 2002 in 1999 he presided over the trial of great western trains following the southall rail crash in 1997 he dismissed charges of corporate manslaughter as there was no identifiable individual in the company who was also guilty of gross negligence but levied a thenrecord fine for health and safety offences of 15m his judgment was upheld on appeal the same year baker presided at the trial of jonathan aitken on charges of perjury following the collapse of aitkens libel suit against the guardianbaker was promoted in 2002 becoming a lord justice of appeal he was treasurer of his inn of court the middle temple in 2004 he sat as coroner for the inquests into the deaths of princess diana and dodi fayed from 2 october 2007 to 7 april 2008in march 2011 baker was sworn in as a justice of the court of appeal of bermuda', ... ]\n"
     ]
    }
   ],
   "source": [
    "print pages[pages['name'] == 'Scott Baker (judge)']['text']"
   ]
  },
  {
   "cell_type": "markdown",
   "metadata": {},
   "source": [
    "Apparemment il n'y a pas des problèmes majeurs dans les articles. Nous nous voulons connaître le nombre totale de pages."
   ]
  },
  {
   "cell_type": "code",
   "execution_count": 7,
   "metadata": {
    "collapsed": false
   },
   "outputs": [
    {
     "name": "stdout",
     "output_type": "stream",
     "text": [
      "59071\n"
     ]
    }
   ],
   "source": [
    "print len(pages)"
   ]
  },
  {
   "cell_type": "markdown",
   "metadata": {},
   "source": [
    "On a 59071 différents personnages! Nous pouvons selectionner ceux qui nous préféront. On va plutôt se concentrer sur des personnages américains. Pour simplifier la notation, je vais définir une fonction qui retourne le texte de la page associé à un certain nom."
   ]
  },
  {
   "cell_type": "code",
   "execution_count": 8,
   "metadata": {
    "collapsed": true
   },
   "outputs": [],
   "source": [
    "def text(string):\n",
    "    return pages[pages['name'] == string]['text']"
   ]
  },
  {
   "cell_type": "markdown",
   "metadata": {
    "collapsed": true
   },
   "source": [
    "On a dit dans l'introduction que le nombre de mots est un élément important. On définit alors un nouveau élément de notre SFrame, le nombre total de mot. Le package graphlab possède une fonction specifique pour la tâche, text_analytics.count_words."
   ]
  },
  {
   "cell_type": "code",
   "execution_count": 10,
   "metadata": {
    "collapsed": false
   },
   "outputs": [],
   "source": [
    "pages['word_count'] = graphlab.text_analytics.count_words(pages['text'])"
   ]
  },
  {
   "cell_type": "code",
   "execution_count": 15,
   "metadata": {
    "collapsed": false
   },
   "outputs": [
    {
     "data": {
      "text/plain": [
       "dtype: dict\n",
       "Rows: ?\n",
       "[{'operations': 1, 'represent': 1, 'office': 2, 'unemployment': 1, 'doddfrank': 1, 'over': 1, 'unconstitutional': 1, 'domestic': 2, 'major': 1, 'years': 1, 'against': 1, 'proposition': 1, 'seats': 1, 'graduate': 1, 'debate': 1, 'before': 1, 'death': 1, '20': 2, 'taxpayer': 1, 'representing': 1, 'obamacare': 1, 'barack': 1, 'to': 14, '4': 1, 'policy': 2, '8': 1, 'he': 7, '2011': 3, '2010': 2, '2013': 1, '2012': 1, 'bin': 1, 'then': 1, 'his': 11, 'march': 1, 'gains': 1, 'cuba': 1, 'school': 3, '1992': 1, 'new': 1, 'not': 1, 'during': 2, 'ending': 1, 'continued': 1, 'presidential': 2, 'states': 3, 'husen': 1, 'osama': 1, 'californias': 1, 'equality': 1, 'prize': 1, 'lost': 1, 'made': 1, 'inaugurated': 1, 'january': 3, 'university': 2, 'rights': 1, 'july': 1, 'gun': 1, 'stimulus': 1, 'rodham': 1, 'troop': 1, 'withdrawal': 1, 'brk': 1, 'nine': 1, 'where': 1, 'referred': 1, 'affordable': 1, 'attorney': 1, 'on': 2, 'often': 1, 'senate': 3, 'regained': 1, 'national': 2, 'creation': 1, 'related': 1, 'hawaii': 1, 'born': 2, 'second': 2, 'defense': 1, 'election': 3, 'close': 1, 'operation': 1, 'insurance': 1, 'sandy': 1, 'afghanistan': 2, 'initiatives': 1, 'for': 4, 'reform': 1, 'house': 2, 'review': 1, 'representatives': 2, 'ended': 1, 'current': 1, 'state': 1, 'won': 1, 'limit': 1, 'victory': 1, 'unsuccessfully': 1, 'reauthorization': 1, 'keynote': 1, 'full': 1, 'patient': 1, 'august': 1, 'degree': 1, '44th': 1, 'bm': 1, 'mitt': 1, 'attention': 1, 'delegates': 1, 'lgbt': 1, 'job': 1, 'harvard': 2, 'term': 3, 'served': 2, 'ask': 1, 'november': 2, 'debt': 1, 'by': 1, 'wall': 1, 'care': 1, 'received': 1, 'great': 1, 'signed': 3, 'libya': 1, 'receive': 1, 'of': 18, 'months': 1, 'urged': 1, 'foreign': 2, 'american': 3, 'protection': 2, 'economic': 1, 'act': 8, 'military': 4, 'hussein': 1, 'or': 1, 'first': 3, 'control': 4, 'named': 1, 'clinton': 1, 'dont': 2, 'campaign': 3, 'russia': 1, 'civil': 1, 'reinvestment': 1, 'into': 1, 'address': 1, 'primary': 2, 'community': 1, 'mccain': 1, 'down': 1, 'hook': 1, '63': 1, 'americans': 1, 'elementary': 1, 'total': 1, 'earning': 1, 'repeal': 1, 'from': 3, 'raise': 1, 'district': 1, 'spending': 1, 'republican': 2, 'legislation': 1, 'three': 1, 'relations': 1, 'nobel': 1, 'start': 1, 'tell': 1, 'iraq': 4, 'convention': 1, 'resulted': 1, 'john': 1, 'was': 5, '2012obama': 1, 'form': 1, 'that': 1, 'tax': 1, 'sufficient': 1, 'republicans': 1, 'strike': 1, 'hillary': 1, 'street': 1, 'arms': 1, 'honolulu': 1, 'filed': 1, 'worked': 1, 'hold': 1, 'with': 3, 'obama': 9, 'ii': 1, 'has': 4, '1997': 1, '1996': 1, 'whether': 1, 'reelected': 1, 'budget': 1, 'us': 6, 'nations': 1, 'recession': 1, 'while': 1, 'taught': 1, 'marriage': 1, 'policies': 1, 'promoted': 1, 'called': 1, 'and': 21, 'supreme': 1, 'ordered': 3, 'nominee': 2, 'process': 1, '2000in': 1, 'is': 2, 'romney': 1, 'briefs': 1, 'defeated': 1, 'general': 1, '13th': 1, 'as': 6, 'at': 2, 'in': 30, 'sought': 1, 'organizer': 1, 'shooting': 1, 'increased': 1, 'normalize': 1, 'lengthy': 1, 'united': 3, 'court': 1, 'recovery': 1, 'laden': 1, 'laureateduring': 1, 'peace': 1, 'administration': 1, '1961': 1, 'illinois': 2, 'other': 1, 'which': 1, 'party': 3, 'primaries': 1, 'sworn': 1, 'relief': 2, 'war': 1, 'columbia': 1, 'combat': 1, 'after': 4, 'islamic': 1, 'running': 1, 'levels': 1, 'two': 1, 'involvement': 3, 'response': 3, 'included': 1, 'president': 4, 'law': 6, 'nomination': 1, '2008': 1, 'a': 7, '2009': 3, 'chicago': 2, 'constitutional': 1, 'defeating': 1, 'treaty': 1, 'federal': 1, '2007': 1, '2004': 3, 'african': 1, 'the': 40, 'democratic': 4, 'consumer': 1, 'began': 1, 'terms': 1}, ... ]"
      ]
     },
     "execution_count": 15,
     "metadata": {},
     "output_type": "execute_result"
    }
   ],
   "source": [
    "pages[pages['name'] == 'Barack Obama']['word_count']"
   ]
  },
  {
   "cell_type": "markdown",
   "metadata": {},
   "source": [
    "En utilisant la fonction 'text_analytics.tf_idf' de graphlab on calcule le TF-IDF pour chaque entrée de notre base de données et on ajoute une nouvelle columne avec cette valeur. On va définir aussi une fonction qui, en ayant comme input deux noms, donne leur distance (en utilisant la distance cosine). Plus la distance est petite, plus les deux personnes sont proches.\n"
   ]
  },
  {
   "cell_type": "code",
   "execution_count": 19,
   "metadata": {
    "collapsed": false
   },
   "outputs": [],
   "source": [
    "tfidf = graphlab.text_analytics.tf_idf(pages['word_count'])\n"
   ]
  },
  {
   "cell_type": "code",
   "execution_count": 20,
   "metadata": {
    "collapsed": false
   },
   "outputs": [],
   "source": [
    "pages['tfidf'] = tfidf['docs']"
   ]
  },
  {
   "cell_type": "code",
   "execution_count": 22,
   "metadata": {
    "collapsed": false
   },
   "outputs": [
    {
     "name": "stdout",
     "output_type": "stream",
     "text": [
      "[{'operations': 3.811771079388818, 'represent': 4.184100625900883, 'office': 5.2481728232196465, 'unemployment': 6.642689967371511, 'doddfrank': 9.887883100557085, 'over': 1.4878231559557336, 'unconstitutional': 6.8276123058655225, 'domestic': 8.967410686619141, 'major': 2.0581201293715634, 'years': 1.0752380994247055, 'against': 2.0079609791418744, 'proposition': 6.926052378678775, 'seats': 5.000043383940756, 'graduate': 2.6750971107885535, 'debate': 4.783959872037272, 'before': 1.4967823726683713, 'death': 3.1568650000750016, '20': 4.88376320446593, 'taxpayer': 7.431147327735781, 'representing': 3.535253704237518, 'obamacare': 9.04058524016988, 'barack': 5.067601534952048, 'to': 0.6572291275451891, '4': 2.437803530749586, 'policy': 6.095386282141427, '8': 2.7572509724892824, 'he': 1.493579903611068, '2011': 5.107041270312876, '2010': 3.185667920243947, '2013': 1.9545642372230505, '2012': 1.7938099524877322, 'bin': 5.6158573610975315, 'then': 1.4309354361561304, 'his': 2.8887260073502303, 'march': 1.9573172463231197, 'gains': 6.7238155121838785, 'cuba': 5.005081177970713, 'school': 3.6683618376520553, '1992': 2.278351314316948, 'new': 0.8871532656125274, 'not': 1.5880170751336171, 'during': 2.634930295807099, 'ending': 4.547145018125096, 'continued': 2.720588055069447, 'presidential': 7.386955418904825, 'states': 5.473200989631017, 'husen': 10.986495389225194, 'osama': 6.604468754551313, 'californias': 5.923900356198227, 'equality': 5.341048491581956, 'prize': 2.7453192387302345, 'lost': 2.731706463076469, 'made': 1.519886215502974, 'inaugurated': 6.27696518791286, 'january': 5.656236009557883, 'university': 1.6946860096423695, 'rights': 3.06677562830062, 'july': 1.9428000946579587, 'gun': 5.269467687818973, 'stimulus': 7.654290879049991, 'rodham': 7.690658523220865, 'troop': 7.248825770941826, 'withdrawal': 6.27696518791286, 'brk': 10.293348208665249, 'nine': 3.2624907325491286, 'where': 1.089076212090673, 'referred': 4.255477288743111, 'affordable': 6.134465125305577, 'attorney': 3.6593720969659014, 'on': 0.36882550670120073, 'often': 2.862641126119281, 'senate': 10.164288179703693, 'regained': 5.583818007352915, 'national': 2.3721863295447827, 'creation': 4.03568062078261, 'related': 3.723866788250953, 'hawaii': 4.806478735572622, 'born': 0.53639254752953, 'second': 3.344851662973069, 'defense': 3.794313330511949, 'election': 7.712676160711769, 'close': 3.5416621153330006, 'operation': 4.3584540130456615, 'insurance': 4.594578275832593, 'sandy': 5.493433945884646, 'afghanistan': 9.4197037997671, 'initiatives': 4.895185507147496, 'for': 0.29145011737314763, 'reform': 4.092839034622559, 'house': 4.651096468328522, 'review': 3.227734845067532, 'representatives': 7.484535747243688, 'ended': 3.3430124821479934, 'current': 2.8308461188591933, 'state': 1.7090572737165175, 'won': 1.3836400683164753, 'limit': 5.355283607403829, 'victory': 3.384593429350028, 'unsuccessfully': 4.831637295208776, 'reauthorization': 8.907053847545358, 'keynote': 5.433535804303577, 'full': 3.003055326218652, 'patient': 5.6393878585077255, 'august': 2.000173951599175, 'degree': 2.0206498944742566, '44th': 7.0744723837970485, 'bm': 7.202305755306933, 'mitt': 6.812108119329557, 'attention': 3.4269358932174945, 'delegates': 6.142308302766603, 'lgbt': 5.5883326877074415, 'job': 3.446936559924164, 'harvard': 6.634000276435001, 'term': 9.319341564760851, 'served': 3.0725446998610506, 'ask': 5.510031837293684, 'november': 3.9453132752336004, 'debt': 5.6158573610975315, 'by': 0.37455341206197373, 'wall': 4.021415043623787, 'care': 3.916621260766622, 'received': 1.5396609815666638, 'great': 2.7682474625394486, 'signed': 7.552957376250012, 'libya': 6.332535039067671, 'receive': 4.448355565457525, 'of': 0.07481117158400744, 'months': 3.0427126967665687, 'urged': 6.199003646443148, 'foreign': 6.3816977057812005, 'american': 3.3821333532750204, 'protection': 8.698474715881474, 'economic': 3.2704801225826072, 'act': 27.67822262297991, 'military': 13.115932778499415, 'hussein': 6.126682984863522, 'or': 1.9128915408224825, 'first': 2.0868146141979307, 'control': 14.887060845181308, 'named': 2.0300155412252816, 'clinton': 4.542364132524754, 'dont': 8.28123102792229, 'campaign': 9.077468342511231, 'russia': 4.025199343315028, 'civil': 3.3244978303233013, 'reinvestment': 8.421546031763658, 'into': 1.6050629424066056, 'address': 4.8023464982877115, 'primary': 6.710127449296579, 'community': 2.693196030513871, 'mccain': 6.766987684049088, 'down': 2.9476606314374463, 'hook': 6.2951475069960505, '63': 5.22130428644035, 'americans': 4.761936959949835, 'elementary': 4.96062941539988, 'total': 3.2767385247710297, 'earning': 3.857197840295821, 'repeal': 7.297615935111258, 'from': 0.8812660139569034, 'raise': 4.67476058007228, 'district': 2.774469584601757, 'spending': 4.176352939110058, 'republican': 7.207497878972565, 'legislation': 4.687546142369252, 'three': 1.4915025293575952, 'relations': 3.445873860568042, 'nobel': 5.075698745184667, 'start': 3.281232914358869, 'tell': 4.804410482508563, 'iraq': 17.747378587965535, 'convention': 4.417013968810898, 'resulted': 4.015765311081669, 'john': 1.9913303989140443, 'was': 0.3968289280609173, '2012obama': 10.986495389225194, 'form': 3.233730580373866, 'that': 0.6614069466714981, 'tax': 4.545548848592274, 'sufficient': 6.432618497624653, 'republicans': 5.592867842872833, 'strike': 5.025490049601921, 'hillary': 6.002888767516858, 'street': 3.250188292676909, 'arms': 5.030658019760364, 'honolulu': 5.880549915324614, 'filed': 4.70797396505935, 'worked': 1.553891853362109, 'hold': 4.144879912747602, 'with': 0.6074059275661821, 'obama': 43.2956530720749, 'ii': 3.3077063910260405, 'has': 1.713990158976156, '1997': 2.1298344522079455, '1996': 2.135691193468776, 'whether': 4.744272123770029, 'reelected': 3.68265216394749, 'budget': 4.523465932304524, 'us': 11.591942692842837, 'nations': 3.361876403065796, 'recession': 6.642689967371511, 'while': 1.8364359481339414, 'taught': 2.8485149347730556, 'marriage': 4.115404094614648, 'policies': 4.660345916070095, 'promoted': 3.5191243223076345, 'called': 2.0784770664403074, 'and': 0.01564802185902329, 'supreme': 3.9140734886878232, 'ordered': 14.533373950913514, 'nominee': 9.43101391473379, 'process': 3.7451291059028766, '2000in': 6.250296940830698, 'is': 0.05523250095103998, 'romney': 6.843360662833661, 'briefs': 7.460134864609033, 'defeated': 3.4068165661347387, 'general': 2.220724845237937, '13th': 4.9534091674263925, 'as': 0.7630171320744707, 'at': 0.43063857330825733, 'in': 0.028962190503643476, 'sought': 4.327201469541557, 'organizer': 5.501698455734539, 'shooting': 4.682046586803213, 'increased': 4.75012579902149, 'normalize': 10.293348208665249, 'lengthy': 5.862531409821935, 'united': 4.703766236011668, 'court': 2.896399606044235, 'recovery': 5.103173000736915, 'laden': 6.709829270209139, 'laureateduring': 10.986495389225194, 'peace': 3.7928095708300824, 'administration': 3.2952952917023315, '1961': 3.3207419573634955, 'illinois': 7.480254618245467, 'other': 1.4424007566948476, 'which': 0.7674309670437692, 'party': 7.0620334604226676, 'primaries': 6.669007275688884, 'sworn': 4.96062941539988, 'relief': 8.842460838379667, 'war': 2.809822617276739, 'columbia': 3.232442750189437, 'combat': 4.932056042955824, 'after': 3.7773337680052257, 'islamic': 4.785986215182504, 'running': 3.3516747114796512, 'levels': 4.647901311022012, 'two': 1.0988831858473562, 'involvement': 12.784385241175055, 'response': 12.784385241175055, 'included': 2.4446095852185854, 'president': 7.226869291326606, 'law': 14.722935761763422, 'nomination': 3.7697859025157365, '2008': 1.5093391374786154, 'a': 0.039334291308082026, '2009': 4.693309450812809, 'chicago': 5.858235801334405, 'constitutional': 4.529725733653031, 'defeating': 4.285764279677384, 'treaty': 5.89889905399281, 'federal': 3.0888272384982884, '2007': 1.4879730697555795, '2004': 5.071033082507702, 'african': 3.582216271187926, 'the': 0.004063113702956533, 'democratic': 12.410688697332166, 'consumer': 4.7540473726746715, 'began': 1.727460095710253, 'terms': 3.8240978918694766}, ... ]\n"
     ]
    }
   ],
   "source": [
    "print pages[pages['name'] == 'Barack Obama']['tfidf']"
   ]
  },
  {
   "cell_type": "markdown",
   "metadata": {},
   "source": [
    "Nous définons une nouvelle fonction qui, étant donnés deux différents noms, calcule la distance entre les deux pages de wikipedia associées. La distance maximale que nous pouvons obtenir est 1."
   ]
  },
  {
   "cell_type": "code",
   "execution_count": 23,
   "metadata": {
    "collapsed": true
   },
   "outputs": [],
   "source": [
    "def distance_names(name1, name2):\n",
    "    return graphlab.distances.cosine(pages[pages['name'] == name1]['tfidf'][0], pages[pages['name'] == name2]['tfidf'][0])\n"
   ]
  },
  {
   "cell_type": "code",
   "execution_count": 24,
   "metadata": {
    "collapsed": false
   },
   "outputs": [
    {
     "name": "stdout",
     "output_type": "stream",
     "text": [
      "0.833985493688\n"
     ]
    }
   ],
   "source": [
    "print distance_names('Barack Obama', 'Bill Clinton')"
   ]
  },
  {
   "cell_type": "code",
   "execution_count": 25,
   "metadata": {
    "collapsed": false
   },
   "outputs": [
    {
     "name": "stdout",
     "output_type": "stream",
     "text": [
      "0.960869474154\n"
     ]
    }
   ],
   "source": [
    "print distance_names('Barack Obama', 'Silvio Berlusconi')"
   ]
  },
  {
   "cell_type": "code",
   "execution_count": 26,
   "metadata": {
    "collapsed": false
   },
   "outputs": [
    {
     "name": "stdout",
     "output_type": "stream",
     "text": [
      "0.953687259117\n"
     ]
    }
   ],
   "source": [
    "print distance_names('Barack Obama', 'Nicolas Sarkozy')"
   ]
  },
  {
   "cell_type": "code",
   "execution_count": 27,
   "metadata": {
    "collapsed": false
   },
   "outputs": [
    {
     "name": "stdout",
     "output_type": "stream",
     "text": [
      "0.967830338802\n"
     ]
    }
   ],
   "source": [
    "print distance_names('Silvio Berlusconi', 'Nicolas Sarkozy')"
   ]
  },
  {
   "cell_type": "code",
   "execution_count": 28,
   "metadata": {
    "collapsed": false
   },
   "outputs": [
    {
     "name": "stdout",
     "output_type": "stream",
     "text": [
      "0.95816004976\n"
     ]
    }
   ],
   "source": [
    "print distance_names('Silvio Berlusconi','David Beckham')"
   ]
  },
  {
   "cell_type": "code",
   "execution_count": 29,
   "metadata": {
    "collapsed": false
   },
   "outputs": [
    {
     "name": "stdout",
     "output_type": "stream",
     "text": [
      "0.971809372456\n"
     ]
    }
   ],
   "source": [
    "print distance_names('Silvio Berlusconi', 'Britney Spears')"
   ]
  },
  {
   "cell_type": "markdown",
   "metadata": {},
   "source": [
    "# Clustering et KMeans\n"
   ]
  },
  {
   "cell_type": "markdown",
   "metadata": {},
   "source": [
    "On va maintenant montrer comment utiliser KMeans et en général le clustering pour identifier les pages plus proche d'une page donnée, en utilisant la fonction nearest_neighbors de graphlab."
   ]
  },
  {
   "cell_type": "code",
   "execution_count": 30,
   "metadata": {
    "collapsed": false
   },
   "outputs": [
    {
     "name": "stdout",
     "output_type": "stream",
     "text": [
      "PROGRESS: Starting brute force nearest neighbors model training.\n"
     ]
    }
   ],
   "source": [
    "knn_model = graphlab.nearest_neighbors.create(pages, features = ['tfidf'], label = 'name' )\n"
   ]
  },
  {
   "cell_type": "markdown",
   "metadata": {},
   "source": [
    "La fonction knn_name calcule le 5 plus proche personnages, informations obtenues en utilisant le model."
   ]
  },
  {
   "cell_type": "code",
   "execution_count": 31,
   "metadata": {
    "collapsed": false
   },
   "outputs": [],
   "source": [
    "def knn_name(name):\n",
    "    return knn_model.query(pages[pages['name'] == name])"
   ]
  },
  {
   "cell_type": "code",
   "execution_count": 32,
   "metadata": {
    "collapsed": false
   },
   "outputs": [
    {
     "name": "stdout",
     "output_type": "stream",
     "text": [
      "PROGRESS: Starting pairwise querying.\n",
      "PROGRESS: +--------------+---------+-------------+--------------+\n",
      "PROGRESS: | Query points | # Pairs | % Complete. | Elapsed Time |\n",
      "PROGRESS: +--------------+---------+-------------+--------------+\n",
      "PROGRESS: | 0            | 1       | 0.00169288  | 24.365ms     |\n",
      "PROGRESS: | Done         |         | 100         | 657.317ms    |\n",
      "PROGRESS: +--------------+---------+-------------+--------------+\n",
      "+-------------+-----------------+----------------+------+\n",
      "| query_label | reference_label |    distance    | rank |\n",
      "+-------------+-----------------+----------------+------+\n",
      "|      0      |   Barack Obama  |      0.0       |  1   |\n",
      "|      0      |    Joe Biden    | 0.794117647059 |  2   |\n",
      "|      0      |  Joe Lieberman  | 0.794685990338 |  3   |\n",
      "|      0      |   Kelly Ayotte  | 0.811989100817 |  4   |\n",
      "|      0      |   Bill Clinton  | 0.813852813853 |  5   |\n",
      "+-------------+-----------------+----------------+------+\n",
      "[5 rows x 4 columns]\n",
      "\n"
     ]
    }
   ],
   "source": [
    "print knn_name('Barack Obama')"
   ]
  },
  {
   "cell_type": "code",
   "execution_count": 33,
   "metadata": {
    "collapsed": false
   },
   "outputs": [
    {
     "name": "stdout",
     "output_type": "stream",
     "text": [
      "PROGRESS: Starting pairwise querying.\n",
      "PROGRESS: +--------------+---------+-------------+--------------+\n",
      "PROGRESS: | Query points | # Pairs | % Complete. | Elapsed Time |\n",
      "PROGRESS: +--------------+---------+-------------+--------------+\n",
      "PROGRESS: | 0            | 1       | 0.00169288  | 20.993ms     |\n",
      "PROGRESS: | Done         |         | 100         | 579.923ms    |\n",
      "PROGRESS: +--------------+---------+-------------+--------------+\n",
      "+-------------+--------------------+----------------+------+\n",
      "| query_label |  reference_label   |    distance    | rank |\n",
      "+-------------+--------------------+----------------+------+\n",
      "|      0      | Silvio Berlusconi  |      0.0       |  1   |\n",
      "|      0      | Paul B%C3%A9renger | 0.830409356725 |  2   |\n",
      "|      0      |     Mark Rutte     | 0.832116788321 |  3   |\n",
      "|      0      | Giorgio Napolitano | 0.836419753086 |  4   |\n",
      "|      0      |    Peter Dunne     | 0.842519685039 |  5   |\n",
      "+-------------+--------------------+----------------+------+\n",
      "[5 rows x 4 columns]\n",
      "\n"
     ]
    }
   ],
   "source": [
    "print knn_name('Silvio Berlusconi')"
   ]
  },
  {
   "cell_type": "code",
   "execution_count": 34,
   "metadata": {
    "collapsed": false
   },
   "outputs": [
    {
     "name": "stdout",
     "output_type": "stream",
     "text": [
      "PROGRESS: Starting pairwise querying.\n",
      "PROGRESS: +--------------+---------+-------------+--------------+\n",
      "PROGRESS: | Query points | # Pairs | % Complete. | Elapsed Time |\n",
      "PROGRESS: +--------------+---------+-------------+--------------+\n",
      "PROGRESS: | 0            | 1       | 0.00169288  | 18.946ms     |\n",
      "PROGRESS: | Done         |         | 100         | 557.461ms    |\n",
      "PROGRESS: +--------------+---------+-------------+--------------+\n",
      "+-------------+---------------------+----------------+------+\n",
      "| query_label |   reference_label   |    distance    | rank |\n",
      "+-------------+---------------------+----------------+------+\n",
      "|      0      |    Jacques Chirac   |      0.0       |  1   |\n",
      "|      0      |   Alain Jupp%C3%A9  | 0.826254826255 |  2   |\n",
      "|      0      | Jean-Pierre Soisson | 0.837662337662 |  3   |\n",
      "|      0      |     Pierre Joxe     | 0.838345864662 |  4   |\n",
      "|      0      |     Mario Silva     | 0.847272727273 |  5   |\n",
      "+-------------+---------------------+----------------+------+\n",
      "[5 rows x 4 columns]\n",
      "\n"
     ]
    }
   ],
   "source": [
    "print knn_name('Jacques Chirac')"
   ]
  },
  {
   "cell_type": "markdown",
   "metadata": {},
   "source": [
    "# Remarques finales"
   ]
  },
  {
   "cell_type": "markdown",
   "metadata": {},
   "source": [
    "En utilisant des techniques d'apprentissage automatique, particulièrement TF-IDF et le clustering, on a trouvé une manière de donner une distance entre certaine pages de wikipedia, dans ce cas les pages concernant des personnages publiques. Pour simplifier la computation on a consideré un sous ensemble des pages de wikipedia, mais la même méthode peut être utilisé pour analyser tous les pages de l'encyclopedie. On pourrait aussi penser d'ajouter une fonction qui associe de manière automatique les pages plus proches à une certaine page visitée."
   ]
  }
 ],
 "metadata": {
  "kernelspec": {
   "display_name": "Python 2",
   "language": "python",
   "name": "python2"
  },
  "language_info": {
   "codemirror_mode": {
    "name": "ipython",
    "version": 2
   },
   "file_extension": ".py",
   "mimetype": "text/x-python",
   "name": "python",
   "nbconvert_exporter": "python",
   "pygments_lexer": "ipython2",
   "version": "2.7.6"
  }
 },
 "nbformat": 4,
 "nbformat_minor": 0
}
